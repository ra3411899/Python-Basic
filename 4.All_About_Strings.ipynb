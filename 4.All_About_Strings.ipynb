{
 "cells": [
  {
   "cell_type": "code",
   "execution_count": null,
   "metadata": {},
   "outputs": [],
   "source": [
    "# Python String Representation\n",
    "# Represent as single quotes ('') or double quotes (\"\") or triple double quotes (\"\"\" \"\"\")\n",
    "\n",
    "# Accessing string values\n",
    "s = 'Hello, World'\n",
    "print(s[1])\n",
    "\n",
    "sentence = \"\"\"\n",
    "Hello World, This\n",
    "is my\n",
    "life\n",
    "\"\"\"\n",
    "print(sentence)\n",
    "\n",
    "\n",
    
   ]
  },
  {
   "cell_type": "code",
   "execution_count": null,
   "metadata": {},
   "outputs": [],
   "source": [
    "# Converting Input String to Number\n",
    "string = int(input('Enter No '))\n",
    "print(string)"
   ]
  },
  {
   "cell_type": "code",
   "execution_count": 8,
   "metadata": {},
   "outputs": [
    {
     "name": "stdout",
     "output_type": "stream",
     "text": [
      "hellohello\n",
      "False\n"
     ]
    }
   ],
   "source": [
    "# String Operators\n",
    "# Concatenation Operator (+)\n",
    "\n",
    "# Repetition Operator (*)\n",
    "string = \"hello\"\n",
    "print(string * 2)\n",
    "\n",
    "# Membership Operators (in, not in)\n",
    "print('world' in string)\n",
    "\n",
    "# Slicing\n",
    "# Length - len(string)\n",
    "\n",
    "# Comparison Operators (==, !=, <, >, <=, >=) - Compares ASCII Value"
   ]
  },
  {
   "cell_type": "code",
   "execution_count": 21,
   "metadata": {},
   "outputs": [
    {
     "name": "stdout",
     "output_type": "stream",
     "text": [
      "Hello, No 10\n",
      "Hello, No 10\n",
      "Hello, 10 = India, 1.200000\n",
      "Float Value 1.2000\n"
     ]
    }
   ],
   "source": [
    "# Formatting a String\n",
    "\n",
    "# Using f-strings\n",
    "a = 10\n",
    "string = 'India'\n",
    "f = 1.2\n",
    "print(f'Hello, No {a}')\n",
    "\n",
    "# Using str.format() Method\n",
    "print('Hello, No {}'.format(a))\n",
    "\n",
    "# Using %-formatting\n",
    "print('Hello, %d = %s, %f' % (a,string, f))\n",
    "\n",
    "# Displaying With Some points\n",
    "print(f'Float Value {f:.4f}')\n",
    "\n"
   ]
  },
  {
   "cell_type": "code",
   "execution_count": 28,
   "metadata": {},
   "outputs": [
    {
     "name": "stdout",
     "output_type": "stream",
     "text": [
      "Worked\n"
     ]
    }
   ],
   "source": [
    "# Important String Method\n",
    "# Check for Strong Password\n",
    "string = 'Python123' # Without Special Character\n",
    "# if len whatever be set Accordengly\n",
    "if string.isalnum() and not string.isnumeric() and not string.isalpha():\n",
    "    print('Worked') \n",
    "\n",
    "# Rest Already In 1.PythonStringAndList"
   ]
  }
 ],
 "metadata": {
  "kernelspec": {
   "display_name": "Python 3",
   "language": "python",
   "name": "python3"
  },
  "language_info": {
   "codemirror_mode": {
    "name": "ipython",
    "version": 3
   },
   "file_extension": ".py",
   "mimetype": "text/x-python",
   "name": "python",
   "nbconvert_exporter": "python",
   "pygments_lexer": "ipython3",
   "version": "3.10.5"
  },
  "orig_nbformat": 4
 },
 "nbformat": 4,
 "nbformat_minor": 2
}
