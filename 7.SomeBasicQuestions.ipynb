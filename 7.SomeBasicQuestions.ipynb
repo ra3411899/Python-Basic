{
 "cells": [
  {
   "attachments": {},
   "cell_type": "markdown",
   "metadata": {},
   "source": [
    "### Python Questions - Basic"
   ]
  },
  {
   "cell_type": "code",
   "execution_count": null,
   "metadata": {},
   "outputs": [],
   "source": [
    "# Print the sum of the current number and the previous number\n",
    "\n",
    "original_number = 10\n",
    "sum = 0\n",
    "for current_number in range(original_number):\n",
    "    sum+=current_number\n",
    "    print(f'Current Number : {current_number}, Previous No : {current_number - 1} and Sum : {sum}')"
   ]
  },
  {
   "cell_type": "code",
   "execution_count": null,
   "metadata": {},
   "outputs": [],
   "source": [
    "# Remove first n characters from a string\n",
    "string = 'Hello, World'\n",
    "print(string[2:])"
   ]
  },
  {
   "cell_type": "code",
   "execution_count": null,
   "metadata": {},
   "outputs": [],
   "source": [
    "# Check if the first and last number of a list is the same\n",
    "list1 = [1, 2, 3, 4, 1]\n",
    "print(list1[0] == list1[-1])"
   ]
  },
  {
   "cell_type": "code",
   "execution_count": null,
   "metadata": {},
   "outputs": [],
   "source": [
    "# Return the count of a given substring from a string\n",
    "str_x = \"Emma is good developer. Emma is a writer\"\n",
    "print(str_x.count('Emma'))"
   ]
  },
  {
   "cell_type": "code",
   "execution_count": null,
   "metadata": {},
   "outputs": [],
   "source": [
    "# Print the following pattern\n",
    "# 1 \n",
    "# 2 2 \n",
    "# 3 3 3 \n",
    "# 4 4 4 4 \n",
    "# 5 5 5 5 5\n",
    "for i in range(1, 6):\n",
    "    for j in range(i):\n",
    "        print(i, end= \" \")\n",
    "    print()"
   ]
  }
 ],
 "metadata": {
  "kernelspec": {
   "display_name": "Python 3",
   "language": "python",
   "name": "python3"
  },
  "language_info": {
   "codemirror_mode": {
    "name": "ipython",
    "version": 3
   },
   "file_extension": ".py",
   "mimetype": "text/x-python",
   "name": "python",
   "nbconvert_exporter": "python",
   "pygments_lexer": "ipython3",
   "version": "3.10.5"
  },
  "orig_nbformat": 4
 },
 "nbformat": 4,
 "nbformat_minor": 2
}
