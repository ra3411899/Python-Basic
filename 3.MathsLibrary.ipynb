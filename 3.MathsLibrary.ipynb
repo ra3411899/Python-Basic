{
 "cells": [
  {
   "cell_type": "code",
   "execution_count": null,
   "metadata": {},
   "outputs": [],
   "source": [
    "# Introduction to Math and Binary Numbers\n",
    "\n",
    "a = 5\n",
    "print(type(bin(5)))\n",
    "print(int(bin(5), 2))\n",
    "\n",
    "\n",
    "# Converting from Binary to Decimal\n",
    "# Number and Numeric Types in Python\n",
    "# Rewriting Math Formulas in Python Syntax\n",
    "# Number Type Conversion\n",
    "# Mathematical Functions\n",
    "# Random Number Functions\n",
    "# Trig Functions\n",
    "# Project: Use Pythagoras’ Rule in Python"
   ]
  },
  {
   "attachments": {},
   "cell_type": "markdown",
   "metadata": {},
   "source": [
    "### # Converting from Decimal to Binary"
   ]
  },
  {
   "cell_type": "code",
   "execution_count": null,
   "metadata": {},
   "outputs": [],
   "source": [
    "input_no = int(input('Enter the Number : '))\n",
    "resListReverseUsage = []\n",
    "while input_no != 0:\n",
    "    remainder = str(input_no % 2)\n",
    "    input_no //= 2\n",
    "    resListReverseUsage.append(remainder)\n",
    "print(resListReverseUsage)\n",
    "result = resListReverseUsage[::-1]\n",
    "print(''.join(result))\n",
    "\n"
   ]
  },
  {
   "attachments": {},
   "cell_type": "markdown",
   "metadata": {},
   "source": [
    "### Converting Binary to Decimal"
   ]
  },
  {
   "cell_type": "code",
   "execution_count": null,
   "metadata": {},
   "outputs": [],
   "source": [
    "binaryNum = int(input('Enter the NO : '))\n",
    "decimalNum, i = 0, 0\n",
    "while binaryNum != 0:\n",
    "    decimalNum += (binaryNum % 2) * (2 ** i)\n",
    "    binaryNum //= 10\n",
    "    i+=1\n",
    "    # print(decimalNum, end=\" \")\n",
    "print(decimalNum)\n"
   ]
  },
  {
   "cell_type": "code",
   "execution_count": null,
   "metadata": {},
   "outputs": [],
   "source": [
    "### Other Way\n",
    "decimalNum = int(input('Enter the Number : '))\n",
    "binaryNum, i, remainder = 0, 1, 0\n",
    "while decimalNum != 0:\n",
    "    remainder = decimalNum % 2\n",
    "    decimalNum //= 2\n",
    "    binaryNum += (remainder * i)\n",
    "    i *= 10\n",
    "print(binaryNum)"
   ]
  },
  {
   "cell_type": "code",
   "execution_count": null,
   "metadata": {},
   "outputs": [],
   "source": [
    "# Without Using Remainder Variable\n",
    "decimalNum = int(input('Enter the No : '))\n",
    "binaryNum, i = 0, 1\n",
    "while decimalNum != 0:\n",
    "    binaryNum += ((decimalNum % 2) * i)\n",
    "    decimalNum //= 2\n",
    "    i *= 10\n",
    "print(binaryNum)"
   ]
  },
  {
   "cell_type": "code",
   "execution_count": null,
   "metadata": {},
   "outputs": [],
   "source": [
    "# Decimal to Octal\n",
    "decimalNum = int(input('Enter the No : '))\n",
    "octalNum, i = 0, 1\n",
    "while decimalNum != 0:\n",
    "    octalNum += ((decimalNum % 8) * i)\n",
    "    decimalNum //= 8\n",
    "    i *= 10\n",
    "print(octalNum)"
   ]
  },
  {
   "cell_type": "code",
   "execution_count": null,
   "metadata": {},
   "outputs": [],
   "source": [
    "# Number and Numeric Types in Python\n",
    "x = 5\n",
    "y = 3.14\n",
    "z = 2 + 3j\n",
    "\n",
    "print(type(x)) # int\n",
    "print(type(y)) # float\n",
    "print(type(z)) # complex"
   ]
  },
  {
   "cell_type": "code",
   "execution_count": 4,
   "metadata": {},
   "outputs": [],
   "source": [
    "# # Mathematical Functions\n",
    "\n",
    "# abs(): Returns the absolute value of a number.\n",
    "\n",
    "# pow(x, y): Returns the value of x raised to the power of y.\n",
    "\n",
    "# round(): Rounds a number to a specified number of decimal places.\n",
    "\n",
    "# sqrt(): Returns the square root of a number.\n",
    "\n",
    "# log(): Returns the natural logarithm of a number.\n",
    "\n",
    "# exp(): Returns the value of e raised to the power of a number.\n",
    "\n",
    "# sin(), cos(), tan(): Returns the sine, cosine, and tangent of an angle, respectively.\n",
    "\n",
    "import math\n",
    "\n",
    "x = -5.6\n",
    "y = 2\n",
    "\n",
    "print(abs(x))          # 5.6\n",
    "print(pow(x, y))       # 31.359999999999996\n",
    "print(round(x))        # -6\n",
    "print(round(x, 1))     # -5.6\n",
    "print(math.sqrt(y))    # 1.4142135623730951\n",
    "print(math.log(y))     # 0.0\n",
    "print(math.exp(y))     # 7.3890560989306495\n",
    "\n"
   ]
  }
 ],
 "metadata": {
  "kernelspec": {
   "display_name": "Python 3",
   "language": "python",
   "name": "python3"
  },
  "language_info": {
   "codemirror_mode": {
    "name": "ipython",
    "version": 3
   },
   "file_extension": ".py",
   "mimetype": "text/x-python",
   "name": "python",
   "nbconvert_exporter": "python",
   "pygments_lexer": "ipython3",
   "version": "3.10.5"
  },
  "orig_nbformat": 4
 },
 "nbformat": 4,
 "nbformat_minor": 2
}
