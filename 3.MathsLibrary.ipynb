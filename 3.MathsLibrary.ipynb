{
 "cells": [
  {
   "cell_type": "code",
   "execution_count": null,
   "metadata": {},
   "outputs": [],
   "source": [
    "# Introduction to Math and Binary Numbers\n",
    "\n",
    "a = 5\n",
    "print(type(bin(5)))\n",
    "print(int(bin(5), 2))\n",
    "\n",
    "\n",
    "# Converting from Binary to Decimal\n",
    "# Number and Numeric Types in Python\n",
    "# Rewriting Math Formulas in Python Syntax\n",
    "# Number Type Conversion\n",
    "# Mathematical Functions\n",
    "# Random Number Functions\n",
    "# Trig Functions\n",
    "# Project: Use Pythagoras’ Rule in Python"
   ]
  },
  {
   "attachments": {},
   "cell_type": "markdown",
   "metadata": {},
   "source": [
    "### # Converting from Decimal to Binary"
   ]
  },
  {
   "cell_type": "code",
   "execution_count": null,
   "metadata": {},
   "outputs": [],
   "source": [
    "input_no = int(input('Enter the Number : '))\n",
    "resListReverseUsage = []\n",
    "while input_no != 0:\n",
    "    remainder = str(input_no % 2)\n",
    "    input_no //= 2\n",
    "    resListReverseUsage.append(remainder)\n",
    "print(resListReverseUsage)\n",
    "result = resListReverseUsage[::-1]\n",
    "print(''.join(result))\n",
    "\n"
   ]
  },
  {
   "cell_type": "code",
   "execution_count": null,
   "metadata": {},
   "outputs": [],
   "source": [
    "### Other Way\n",
    "decimalNum = int(input('Enter the Number : '))\n",
    "binaryNum, i, remainder = 0, 1, 0\n",
    "while decimalNum != 0:\n",
    "    remainder = decimalNum % 2\n",
    "    decimalNum //= 2\n",
    "    binaryNum += (remainder * i)\n",
    "    i *= 10\n",
    "print(binaryNum)"
   ]
  },
  {
   "cell_type": "code",
   "execution_count": null,
   "metadata": {},
   "outputs": [],
   "source": [
    "# Without Using Remainder Variable\n",
    "decimalNum = int(input('Enter the No : '))\n",
    "binaryNum, i = 0, 1\n",
    "while decimalNum != 0:\n",
    "    binaryNum += ((decimalNum % 2) * i)\n",
    "    decimalNum //= 2\n",
    "    i *= 10\n",
    "print(binaryNum)"
   ]
  },
  {
   "cell_type": "code",
   "execution_count": null,
   "metadata": {},
   "outputs": [],
   "source": [
    "# Decimal to Octal\n",
    "decimalNum = int(input('Enter the No : '))\n",
    "octalNum, i = 0, 1\n",
    "while decimalNum != 0:\n",
    "    octalNum += ((decimalNum % 8) * i)\n",
    "    decimalNum //= 8\n",
    "    i *= 10\n",
    "print(octalNum)"
   ]
  }
 ],
 "metadata": {
  "kernelspec": {
   "display_name": "Python 3",
   "language": "python",
   "name": "python3"
  },
  "language_info": {
   "codemirror_mode": {
    "name": "ipython",
    "version": 3
   },
   "file_extension": ".py",
   "mimetype": "text/x-python",
   "name": "python",
   "nbconvert_exporter": "python",
   "pygments_lexer": "ipython3",
   "version": "3.10.5"
  },
  "orig_nbformat": 4
 },
 "nbformat": 4,
 "nbformat_minor": 2
}
