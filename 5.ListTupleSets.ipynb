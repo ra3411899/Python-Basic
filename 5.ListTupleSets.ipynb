{
 "cells": [
  {
   "attachments": {},
   "cell_type": "markdown",
   "metadata": {},
   "source": [
    "### Covers About List, Tuple and Dictionry - Methods, Important"
   ]
  },
  {
   "cell_type": "code",
   "execution_count": null,
   "metadata": {},
   "outputs": [],
   "source": [
    "# Working With List\n",
    "list1 = [1, 2, 3, 4] \n",
    "# List items are ordered, changeable, and allow duplicate values.\n",
    "# To add an item to the end of the list, use the append() method:\n",
    "list1.append(5)\n",
    "\n",
    "# The insert() method inserts an item at the specified index.\n",
    "list1.insert(2,     5)\n",
    "#           idx,    val\n",
    "print(list1)\n",
    "\n",
    "# To append elements from another list to the current list, use the extend() method.\n",
    "list2 = (6, 7)\n",
    "list1.extend(list2)\n",
    "print(list1)\n",
    "\n",
    "# The remove() method removes the specified item.\n",
    "list1.remove(6)\n",
    "print(list1)\n",
    "\n",
    "# The pop() method removes the specified index.\n",
    "#    -> idx - Else Last Element will be Removed\n",
    "\n",
    "# List Comprehension\n",
    "# newlist = [expression for item in iterable if condition == True]"
   ]
  },
  {
   "attachments": {},
   "cell_type": "markdown",
   "metadata": {},
   "source": [
    "#### Sorting in List"
   ]
  },
  {
   "cell_type": "code",
   "execution_count": 29,
   "metadata": {},
   "outputs": [
    {
     "name": "stdout",
     "output_type": "stream",
     "text": [
      "[47, 9, 2, 15, 9, 8, 36, 46, 18, 4]\n",
      "['b', 'C', 'c', 'a', 'B', 'A']\n"
     ]
    }
   ],
   "source": [
    "import random\n",
    "# randList = [None] * 10 - For Creating an Empty List Of Size N\n",
    "randList = [random.randrange(1, 50, 1) for val in range(10)]\n",
    "\n",
    "# Bubble Sort\n",
    "n = len(randList)\n",
    "for i in range(n - 1):\n",
    "    for j in range(n-i):\n",
    "        j = j + i\n",
    "        if randList[i] > randList[j]:\n",
    "            randList[i], randList[j] = randList[j], randList[i]\n",
    "print(randList)\n",
    "\n",
    "# To sort descending, use the keyword argument reverse = True:\n",
    "randList.sort(reverse=True) # sort() - For Accending\n",
    "# print(randList)\n",
    "\n",
    "# To Sort List of String into Small to Capital Letter\n",
    "# thislist.sort(key = str.lower)\n",
    "\n",
    "strList = ['A', 'B', 'a', 'c', 'C', 'b']\n",
    "strList.reverse()\n",
    "print(strList)\n",
    "\n"
   ]
  },
  {
   "cell_type": "code",
   "execution_count": 1,
   "metadata": {},
   "outputs": [
    {
     "name": "stdout",
     "output_type": "stream",
     "text": [
      "[1, 2, 3]\n",
      "[1, 2, 3]\n",
      "[3, 2, 1]\n"
     ]
    }
   ],
   "source": [
    "# Copy a List\n",
    "l1 = [1, 2, 3]\n",
    "l2 = l1.copy() # Deep Copy\n",
    "print(l2)\n",
    "\n",
    "# Other Way\n",
    "l3 = list(l1)\n",
    "print(l3)\n",
    "\n",
    "l1.reverse() # reverse the order of the List\n",
    "print(l1)\n"
   ]
  },
  {
   "cell_type": "code",
   "execution_count": null,
   "metadata": {},
   "outputs": [],
   "source": [
    "# List Methods\n",
    "# append()\tAdds an element at the end of the list\n",
    "# clear()\tRemoves all the elements from the list\n",
    "# copy()\tReturns a copy of the list\n",
    "# count()\tReturns the number of elements with the specified value\n",
    "# extend()\tAdd the elements of a list (or any iterable), to the end of the current list\n",
    "# index()\tReturns the index of the first element with the specified value\n",
    "# insert()\tAdds an element at the specified position\n",
    "# pop()\tRemoves the element at the specified position\n",
    "# remove()\tRemoves the item with the specified value\n",
    "# reverse()\tReverses the order of the list\n",
    "# sort()\tSorts the list"
   ]
  },
  {
   "attachments": {},
   "cell_type": "markdown",
   "metadata": {},
   "source": [
    "#### Learn Tuple's"
   ]
  },
  {
   "cell_type": "code",
   "execution_count": null,
   "metadata": {},
   "outputs": [],
   "source": [
    "# A tuple is a collection which is ordered, unchangeable and allow duplicates.\n",
    "# Unchangable -  cannot change, add, or remove items\n",
    "\n",
    "# Ways to Declare\n",
    "t1 = (1, 2, 3)\n",
    "t2 = tuple((1, 2, 3))\n",
    "t3 = (1, ) # Tuple with One Item\n",
    "\n",
    "# count()\tReturns the number of times a specified value occurs in a tuple\n",
    "# index()\tSearches the tuple for a specified value and returns the position of where it was found"
   ]
  },
  {
   "attachments": {},
   "cell_type": "markdown",
   "metadata": {},
   "source": [
    "#### Learn Sets"
   ]
  },
  {
   "cell_type": "code",
   "execution_count": 7,
   "metadata": {},
   "outputs": [
    {
     "name": "stdout",
     "output_type": "stream",
     "text": [
      "{2, 3, 4}\n",
      "{1, 2, 3, 4, 19}\n",
      "False\n",
      "{1, 2, 3, 4, 19, 20}\n"
     ]
    }
   ],
   "source": [
    "# A set is a collection which is unordered, unchangeable*, and unindexed.\n",
    "# Set items are unchangeable, but you can remove items and add new items.\n",
    "s1 = {1, 2, 3}\n",
    "# Sets are unordered, so you cannot be sure in which order the items will appear.\n",
    "# Unchangable - As it is not indexed\n",
    "# Duplicates Not Allowed\n",
    "\n",
    "# Ways to Declare Set's\n",
    "s1 = {1, 20, 19}\n",
    "s2 = set((4, 2, 3))\n",
    "s2.add(4)\n",
    "print(s2)\n",
    "\n",
    "# To add items from another set into the current set, use the update() method.\n",
    "s2.update(s1)\n",
    "s2.remove(20)\n",
    "# print(s2)\n",
    "\n",
    "print(20 in s2)\n",
    "# Join Two Set's\n",
    "\n",
    "s3 = s1.union(s2)\n",
    "print(s3)"
   ]
  },
  {
   "attachments": {},
   "cell_type": "markdown",
   "metadata": {},
   "source": [
    "#### Set's Methods"
   ]
  },
  {
   "cell_type": "code",
   "execution_count": null,
   "metadata": {},
   "outputs": [],
   "source": [
    "# Method\tDescription\n",
    "# add()\tAdds an element to the set\n",
    "# clear()\tRemoves all the elements from the set\n",
    "# copy()\tReturns a copy of the set\n",
    "# difference()\tReturns a set containing the difference between two or more sets\n",
    "# difference_update()\tRemoves the items in this set that are also included in another, specified set\n",
    "# discard()\tRemove the specified item\n",
    "# intersection()\tReturns a set, that is the intersection of two other sets\n",
    "# intersection_update()\tRemoves the items in this set that are not present in other, specified set(s)\n",
    "# isdisjoint()\tReturns whether two sets have a intersection or not\n",
    "# issubset()\tReturns whether another set contains this set or not\n",
    "# issuperset()\tReturns whether this set contains another set or not\n",
    "# pop()\tRemoves an element from the set\n",
    "# remove()\tRemoves the specified element\n",
    "# symmetric_difference()\tReturns a set with the symmetric differences of two sets\n",
    "# symmetric_difference_update()\tinserts the symmetric differences from this set and another\n",
    "# union()\tReturn a set containing the union of sets\n",
    "# update()\tUpdate the set with the union of this set and others"
   ]
  },
  {
   "attachments": {},
   "cell_type": "markdown",
   "metadata": {},
   "source": [
    "#### Learn Dictionary"
   ]
  }
 ],
 "metadata": {
  "kernelspec": {
   "display_name": "Python 3",
   "language": "python",
   "name": "python3"
  },
  "language_info": {
   "codemirror_mode": {
    "name": "ipython",
    "version": 3
   },
   "file_extension": ".py",
   "mimetype": "text/x-python",
   "name": "python",
   "nbconvert_exporter": "python",
   "pygments_lexer": "ipython3",
   "version": "3.10.5"
  },
  "orig_nbformat": 4
 },
 "nbformat": 4,
 "nbformat_minor": 2
}
