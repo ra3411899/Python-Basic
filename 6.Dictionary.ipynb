{
 "cells": [
  {
   "attachments": {},
   "cell_type": "markdown",
   "metadata": {},
   "source": [
    "#### Learn Dictionaries"
   ]
  },
  {
   "cell_type": "code",
   "execution_count": 35,
   "metadata": {},
   "outputs": [],
   "source": [
    "my_details = {\n",
    "    'name' : 'Riyaz Ali',\n",
    "    'roll' : '31',\n",
    "    'class' : 'XII B',\n",
    "    'subject' : ['English', 'Maths'],\n",
    "}\n",
    "# print(f\"My name is {my_details['name']}, \\nhaving roll no {my_details['roll']} and study in class {my_details['class']}\")"
   ]
  },
  {
   "cell_type": "code",
   "execution_count": 36,
   "metadata": {},
   "outputs": [
    {
     "name": "stdout",
     "output_type": "stream",
     "text": [
      "having primary subject as English\n"
     ]
    }
   ],
   "source": [
    "print(f\"having primary subject as {my_details['subject'][0]}\")"
   ]
  },
  {
   "cell_type": "code",
   "execution_count": 37,
   "metadata": {},
   "outputs": [
    {
     "name": "stdout",
     "output_type": "stream",
     "text": [
      "Riyaz Ali\n",
      "31\n",
      "XII B\n",
      "subject = English\n",
      "subject = Maths\n",
      "-----------------\n",
      "['English', 'Maths']\n"
     ]
    }
   ],
   "source": [
    "for key, val in my_details.items():\n",
    "    if(type(val) == list):\n",
    "        for i in val:\n",
    "            print(f'{key} = {i}')\n",
    "        print('-----------------')\n",
    "    print(val)"
   ]
  },
  {
   "cell_type": "code",
   "execution_count": 38,
   "metadata": {},
   "outputs": [
    {
     "name": "stdout",
     "output_type": "stream",
     "text": [
      "{'name': 'Donkey', 'roll': 45, 'class': 'XII B', 'subject': ['English', 'Maths']}\n"
     ]
    }
   ],
   "source": [
    "# For Changing\n",
    "my_details.update({'roll' : 45})\n",
    "# {'name': 'Riyaz Ali', 'roll': 45, 'class': 'XII B', 'subject': ['English', 'Maths']}\n",
    "my_details['name'] = 'Donkey'\n",
    "print(my_details)"
   ]
  },
  {
   "cell_type": "code",
   "execution_count": 39,
   "metadata": {},
   "outputs": [
    {
     "name": "stdout",
     "output_type": "stream",
     "text": [
      "Donkey 45 XII B subject = English subject = Maths \n",
      "-----------------\n",
      "['English', 'Maths'] +91 8102290239 hobbies = Dancing hobbies = Singing \n",
      "-----------------\n",
      "['Dancing', 'Singing'] "
     ]
    }
   ],
   "source": [
    "# For Adding\n",
    "my_details.update({'Phone_No' : '+91 8102290239'})\n",
    "my_details['hobbies'] = ['Dancing', 'Singing']\n",
    "\n",
    "for key, val in my_details.items():\n",
    "    if(type(val) == list):\n",
    "        for i in val:\n",
    "            print(f'{key} = {i}', end=\" \")\n",
    "        print('\\n-----------------')\n",
    "    print(val, end= \" \")"
   ]
  },
  {
   "cell_type": "code",
   "execution_count": 41,
   "metadata": {},
   "outputs": [],
   "source": [
    "# Remove Items\n",
    "# my_details.pop('Phone_No')\n",
    "# my_details.popitem() - Removes last inserted Key\n",
    "# del <var Name>\n",
    "# del <var Name>['key] - Removes that Key with Values\n",
    "# The clear() method empties the dictionary - <var name>.clear()"
   ]
  },
  {
   "cell_type": "code",
   "execution_count": null,
   "metadata": {},
   "outputs": [],
   "source": [
    "# Loops within Dict.\n",
    "# for x, y in thisdict.items():\n",
    "# for x in thisdict.keys():\n",
    "# for x in thisdict.keys():"
   ]
  },
  {
   "cell_type": "code",
   "execution_count": null,
   "metadata": {},
   "outputs": [],
   "source": [
    "# Copy Dict\n",
    "# thisdict.copy() and dict(thisdict)"
   ]
  },
  {
   "cell_type": "code",
   "execution_count": 57,
   "metadata": {},
   "outputs": [
    {
     "name": "stdout",
     "output_type": "stream",
     "text": [
      "name = Emil\n",
      "year = 2004\n",
      "name = Tobias\n",
      "year = 2007\n",
      "name = Linus\n",
      "year = 2011\n"
     ]
    }
   ],
   "source": [
    "# nested Dictionary\n",
    "myfamily = {\n",
    "  \"child1\" : {\n",
    "    \"name\" : \"Emil\",\n",
    "    \"year\" : 2004\n",
    "  },\n",
    "  \"child2\" : {\n",
    "    \"name\" : \"Tobias\",\n",
    "    \"year\" : 2007\n",
    "  },\n",
    "  \"child3\" : {\n",
    "    \"name\" : \"Linus\",\n",
    "    \"year\" : 2011\n",
    "  }\n",
    "}\n",
    "for x, y in myfamily.items():\n",
    "  # print(y.items())\n",
    "  for z, a in y.items():\n",
    "    print(f'{z} = {a}')"
   ]
  },
  {
   "cell_type": "code",
   "execution_count": null,
   "metadata": {},
   "outputs": [],
   "source": [
    "# Method\tDescription\n",
    "# clear()\tRemoves all the elements from the dictionary\n",
    "# copy()\tReturns a copy of the dictionary\n",
    "# fromkeys()\tReturns a dictionary with the specified keys and value\n",
    "# get()\tReturns the value of the specified key\n",
    "# items()\tReturns a list containing a tuple for each key value pair\n",
    "# keys()\tReturns a list containing the dictionary's keys\n",
    "# pop()\tRemoves the element with the specified key\n",
    "# popitem()\tRemoves the last inserted key-value pair\n",
    "# setdefault()\tReturns the value of the specified key. If the key does not exist: insert the key, with the specified value\n",
    "# update()\tUpdates the dictionary with the specified key-value pairs\n",
    "# values()\tReturns a list of all the values in the dictionary"
   ]
  }
 ],
 "metadata": {
  "kernelspec": {
   "display_name": "Python 3",
   "language": "python",
   "name": "python3"
  },
  "language_info": {
   "codemirror_mode": {
    "name": "ipython",
    "version": 3
   },
   "file_extension": ".py",
   "mimetype": "text/x-python",
   "name": "python",
   "nbconvert_exporter": "python",
   "pygments_lexer": "ipython3",
   "version": "3.10.5"
  },
  "orig_nbformat": 4
 },
 "nbformat": 4,
 "nbformat_minor": 2
}
