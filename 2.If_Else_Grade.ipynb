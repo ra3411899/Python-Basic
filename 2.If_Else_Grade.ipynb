{
 "cells": [
  {
   "attachments": {},
   "cell_type": "markdown",
   "metadata": {},
   "source": [
    "### Operators/Conditions"
   ]
  },
  {
   "cell_type": "code",
   "execution_count": null,
   "metadata": {},
   "outputs": [],
   "source": [
    "# Arithmetic Operations\n",
    "# Example +, -, /, *\n",
    "\n",
    "# Comparison Operations\n",
    "# Example ==, >=. <=, >, < , !=\n",
    "\n",
    "# Membership Operators\n",
    "# Membership operators in Python are used to test if a value is a member of a sequence or a collection.\n",
    "# The \"in\" operator returns True if the value is found in the sequence or collection.\n",
    "# The \"not in\" operator returns True if the value is not found in the sequence or collection.\n",
    "\n",
    "# If Statements\n",
    "# elif Statements\n",
    "# Nested Statements"
   ]
  },
  {
   "attachments": {},
   "cell_type": "markdown",
   "metadata": {},
   "source": [
    "### Create a Gradesheet"
   ]
  },
  {
   "cell_type": "code",
   "execution_count": null,
   "metadata": {},
   "outputs": [],
   "source": [
    "marks = int(input('Enter the Marks : '))\n",
    "\n",
    "if marks > 90:\n",
    "    print('Grade A')\n",
    "elif marks > 80:\n",
    "    print('Grade B')\n",
    "elif marks > 70:\n",
    "    print('Grade C')\n",
    "else:\n",
    "    print('Fail')"
   ]
  },
  {
   "attachments": {},
   "cell_type": "markdown",
   "metadata": {},
   "source": [
    "#### Loops - Python"
   ]
  },
  {
   "cell_type": "code",
   "execution_count": null,
   "metadata": {},
   "outputs": [],
   "source": [
    "# Learn How Loops Work\n",
    "# For Loops - iterate over a sequence (such as a list, tuple, or string)\n",
    "\n",
    "list_Example = [1, 9, 3, 6, 10]\n",
    "for item in list_Example:\n",
    "    print(item, end=\" \")\n",
    "print()\n",
    "\n",
    "for i in range(5):\n",
    "    print(i, end=\" \")\n",
    "print()\n",
    "\n",
    "for idx, val in enumerate(list_Example):\n",
    "    print(f'{idx} = {val}', end=\", \")\n",
    "print()\n",
    "\n",
    "# While Loops\n",
    "count = len(list_Example)\n",
    "i = 0\n",
    "while i < count:\n",
    "    print(list_Example[i], end=\" \")\n",
    "    i += 1\n",
    "print()\n",
    "\n",
    "# Nested Loops\n",
    "for i in range(5):\n",
    "    for j in range(5):\n",
    "        print(i*j, end=\" \")\n",
    "    print()\n",
    "\n",
    "\n",
    "# Project: Simple Guessing Game"
   ]
  },
  {
   "attachments": {},
   "cell_type": "markdown",
   "metadata": {},
   "source": [
    "### Project: Simple Guessing Game"
   ]
  },
  {
   "cell_type": "code",
   "execution_count": null,
   "metadata": {},
   "outputs": [],
   "source": [
    "import random\n",
    "\n",
    "startRange = int(input('Enter the Start Range : '))\n",
    "endRange = int(input('Enter the End Range : '))\n",
    "rand_no = random.randrange(startRange, endRange)\n",
    "print(rand_no)\n",
    "guess_no = int(input('Enter the Guess No : '))\n",
    "while rand_no != guess_no:\n",
    "    if guess_no > rand_no:\n",
    "        print('Guess is High')\n",
    "    elif guess_no < rand_no:\n",
    "        print('Guess is Low')\n",
    "    guess_no = int(input('Enter the Guess No : '))\n",
    "print('Guess The Correct NO')"
   ]
  }
 ],
 "metadata": {
  "kernelspec": {
   "display_name": "Python 3",
   "language": "python",
   "name": "python3"
  },
  "language_info": {
   "codemirror_mode": {
    "name": "ipython",
    "version": 3
   },
   "file_extension": ".py",
   "mimetype": "text/x-python",
   "name": "python",
   "nbconvert_exporter": "python",
   "pygments_lexer": "ipython3",
   "version": "3.10.5"
  },
  "orig_nbformat": 4
 },
 "nbformat": 4,
 "nbformat_minor": 2
}
