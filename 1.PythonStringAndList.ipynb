{
 "cells": [
  {
   "cell_type": "code",
   "execution_count": null,
   "metadata": {},
   "outputs": [],
   "source": [
    "# Printing to the output using pirnt() statement\n",
    "print('Hello, World')\n",
    "# Manipulating Strings and Lists in Python\n"
   ]
  },
  {
   "cell_type": "code",
   "execution_count": null,
   "metadata": {},
   "outputs": [],
   "source": [
    "# Getting user input using the input() statement\n",
    "a = input('Enter the Number')\n",
    "print(a) # Type Will be String"
   ]
  },
  {
   "cell_type": "code",
   "execution_count": null,
   "metadata": {},
   "outputs": [],
   "source": [
    "# Python Data Types\n",
    "# Numeric - Integer, Complex Number & Float , Dictionary, Boolean, Set, Sequence Type - String, List, Tuple (Learn Later).\n",
    "a = input('Enter the No')\n",
    "print(type(a)) # Str Class"
   ]
  },
  {
   "cell_type": "code",
   "execution_count": null,
   "metadata": {},
   "outputs": [],
   "source": [
    "# The int() and the float() functions\n",
    "a = int(input('Enter the Number'))\n",
    "print(type(a)) # Integer Class\n",
    "b = float(input('Enter the Decimal No'))\n",
    "print(type(b))\n"
   ]
  },
  {
   "attachments": {},
   "cell_type": "markdown",
   "metadata": {},
   "source": [
    "### Manipulating Strings and Lists in Python"
   ]
  },
  {
   "cell_type": "code",
   "execution_count": null,
   "metadata": {},
   "outputs": [],
   "source": [
    "# String Manipulation in Python\n",
    "\n",
    "# Find Length of a String\n",
    "input_String = 'Hello, World'\n",
    "print(len(input_String), end=\" \")\n",
    "\n",
    "# Find a Character in a String\n",
    "print(input_String.find('6'), end=\" \") # Return's -1\n",
    "print(input_String.index('Wor'), end=\" \") # If not Found - ValueError: substring not found\n",
    "\n",
    "# Count the number of spaces in a string\n",
    "print(input_String.count(' ')) # Instead Of Space it Can Be Anything\n",
    "\n",
    "# String Slicing\n",
    "# syntax string_name[ start_index : end_index ] or [start:stop:step]\n",
    "# Reverse String\n",
    "reverse_String = input_String[::-1]\n",
    "print(f'reverse_String = {reverse_String}')\n",
    "\n",
    "reverse_String_Join = ''.join(reversed(input_String))\n",
    "print(f'reverse_String_Join = {reverse_String_Join}')\n",
    "\n",
    "# Split Strings in Python - returns a list of substrings\n",
    "split_String_List = input_String.split(' ')\n",
    "print(f'split_String_List = {split_String_List}')"
   ]
  },
  {
   "cell_type": "code",
   "execution_count": null,
   "metadata": {},
   "outputs": [],
   "source": [
    "# Check if a string Startswith or Endswith a character\n",
    "# To check if a string starts with or ends with a specific character - Use startswith() or the endswith() - Returns T or F.\n",
    "print(input_String.startswith('H'))\n",
    "print(input_String.endswith('d'))\n",
    "\n",
    "# Repeat Strings Multiple Times - using the multiplication operator\n",
    "print('*' * 5)\n",
    "\n",
    "# Replace Substring in a String in Python\n",
    "print(input_String.replace('Hello', 'Fuck You'))\n",
    "\n",
    "# Changing Upper and Lower Case Strings\n",
    "lower_Case = 'helLo, world'\n",
    "print(f'lower_Case = {lower_Case.title()}') # Coverts 1st Letter to Upper to Every Word\n",
    "\n",
    "# String strip() Method\n",
    "strip_Text = '   Hello, World    '\n",
    "print(f'strip_Text = {strip_Text.strip()}')\n",
    "\n",
    "# Concatenate Strings in Python - Using + and Join\n",
    "words_List = ['My', 'Name', 'Is', 'Riyaz']\n",
    "print(' '.join(words_List)) # add a whitespace between every Word in the List or if Character\n"
   ]
  },
  {
   "attachments": {},
   "cell_type": "markdown",
   "metadata": {},
   "source": [
    "### For Testing Purpose - Strong Password Checker"
   ]
  },
  {
   "cell_type": "code",
   "execution_count": null,
   "metadata": {},
   "outputs": [],
   "source": [
    "# A string in Python can be tested for truth value.\n",
    "# isalpha, isalnum, isdigit, istitle, isupper, islower, isspace, endswith, startswith\n",
    "# If Statements\n",
    "# elif Statements\n",
    "# Nested Statements\n",
    "\n",
    "import string\n",
    "\n",
    "special_Symbols = \"`~!@#$%^&*()_+=}{[]\"\n",
    "digit = \"1234567890\"\n",
    "passwords = \"12345678@Ab\"\n",
    "dict_Check = {\n",
    "    'isDigit' : False,\n",
    "    'isSymbol' : False,\n",
    "    'isAlpha' : False,\n",
    "    'isLower' : False,\n",
    "}\n",
    "if len(passwords) >= 8:\n",
    "    for i in passwords:\n",
    "        if i in string.ascii_lowercase:\n",
    "            dict_Check['isLower'] = True\n",
    "        elif i in string.ascii_uppercase:\n",
    "            dict_Check['isAlpha'] = True\n",
    "        elif i in digit:\n",
    "            dict_Check['isDigit'] = True\n",
    "        elif i in special_Symbols:\n",
    "            dict_Check['isSymbol'] = True\n",
    "    \n",
    "    # Extracting Values From the Dictionary & Takes the First Value - Which True in this Case\n",
    "    text_Val = list(dict_Check.values())[0]\n",
    "    # Comparing with Every Value of Dictionary using all we will check if all same or not - if not res - False\n",
    "    res = all(val == text_Val for val in dict_Check.values())\n",
    "\n",
    "    if(res):\n",
    "        print('Strong Password')\n",
    "    else:\n",
    "        print('Not a Strong Password')\n",
    "        # For Betterment Can Add a Function for Checking Why it is Not Strong.\n",
    "\n",
    "else:\n",
    "    print('Error')\n",
    "\n"
   ]
  }
 ],
 "metadata": {
  "kernelspec": {
   "display_name": "Python 3",
   "language": "python",
   "name": "python3"
  },
  "language_info": {
   "codemirror_mode": {
    "name": "ipython",
    "version": 3
   },
   "file_extension": ".py",
   "mimetype": "text/x-python",
   "name": "python",
   "nbconvert_exporter": "python",
   "pygments_lexer": "ipython3",
   "version": "3.10.5"
  },
  "orig_nbformat": 4
 },
 "nbformat": 4,
 "nbformat_minor": 2
}
